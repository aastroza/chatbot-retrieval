{
 "cells": [
  {
   "cell_type": "code",
   "execution_count": 1,
   "metadata": {},
   "outputs": [],
   "source": [
    "import pandas as pd"
   ]
  },
  {
   "cell_type": "code",
   "execution_count": 3,
   "metadata": {},
   "outputs": [],
   "source": [
    "df = pd.read_csv('../data/raw/constitucion_vigente_corregida.csv')"
   ]
  },
  {
   "cell_type": "code",
   "execution_count": 4,
   "metadata": {},
   "outputs": [],
   "source": [
    "df['texto_con_titulo'] = df['titulo_capitulo'] + '\\n' + df['texto']"
   ]
  },
  {
   "cell_type": "code",
   "execution_count": 5,
   "metadata": {},
   "outputs": [],
   "source": [
    "df['texto_concatenado'] = df[['capitulo', 'titulo_capitulo','articulo', 'texto']].groupby(['capitulo', 'titulo_capitulo','articulo'])['texto'].transform(lambda x: '\\n'.join(x))\n",
    "df_result = df[['capitulo', 'titulo_capitulo','articulo', 'texto_concatenado']].drop_duplicates()\n"
   ]
  },
  {
   "cell_type": "code",
   "execution_count": 6,
   "metadata": {},
   "outputs": [
    {
     "data": {
      "text/html": [
       "<div>\n",
       "<style scoped>\n",
       "    .dataframe tbody tr th:only-of-type {\n",
       "        vertical-align: middle;\n",
       "    }\n",
       "\n",
       "    .dataframe tbody tr th {\n",
       "        vertical-align: top;\n",
       "    }\n",
       "\n",
       "    .dataframe thead th {\n",
       "        text-align: right;\n",
       "    }\n",
       "</style>\n",
       "<table border=\"1\" class=\"dataframe\">\n",
       "  <thead>\n",
       "    <tr style=\"text-align: right;\">\n",
       "      <th></th>\n",
       "      <th>capitulo</th>\n",
       "      <th>titulo_capitulo</th>\n",
       "      <th>articulo</th>\n",
       "      <th>texto_concatenado</th>\n",
       "    </tr>\n",
       "  </thead>\n",
       "  <tbody>\n",
       "    <tr>\n",
       "      <th>0</th>\n",
       "      <td>Capítulo I</td>\n",
       "      <td>BASES DE LA INSTITUCIONALIDAD</td>\n",
       "      <td>Artículo 1°</td>\n",
       "      <td>Las personas nacen libres e iguales en dignida...</td>\n",
       "    </tr>\n",
       "    <tr>\n",
       "      <th>1</th>\n",
       "      <td>Capítulo I</td>\n",
       "      <td>BASES DE LA INSTITUCIONALIDAD</td>\n",
       "      <td>Artículo 2º</td>\n",
       "      <td>Son emblemas nacionales la bandera nacional, e...</td>\n",
       "    </tr>\n",
       "    <tr>\n",
       "      <th>2</th>\n",
       "      <td>Capítulo I</td>\n",
       "      <td>BASES DE LA INSTITUCIONALIDAD</td>\n",
       "      <td>Artículo 3º</td>\n",
       "      <td>El Estado de Chile es unitario. La administrac...</td>\n",
       "    </tr>\n",
       "    <tr>\n",
       "      <th>3</th>\n",
       "      <td>Capítulo I</td>\n",
       "      <td>BASES DE LA INSTITUCIONALIDAD</td>\n",
       "      <td>Artículo 4°</td>\n",
       "      <td>Chile es una república democrática.</td>\n",
       "    </tr>\n",
       "    <tr>\n",
       "      <th>4</th>\n",
       "      <td>Capítulo I</td>\n",
       "      <td>BASES DE LA INSTITUCIONALIDAD</td>\n",
       "      <td>Artículo 5º</td>\n",
       "      <td>La soberanía reside esencialmente en la Nación...</td>\n",
       "    </tr>\n",
       "    <tr>\n",
       "      <th>...</th>\n",
       "      <td>...</td>\n",
       "      <td>...</td>\n",
       "      <td>...</td>\n",
       "      <td>...</td>\n",
       "    </tr>\n",
       "    <tr>\n",
       "      <th>320</th>\n",
       "      <td>DISPOSICIONES TRANSITORIAS</td>\n",
       "      <td>DISPOSICIONES TRANSITORIAS</td>\n",
       "      <td>CUADRAGÉSIMA SÉPTIMA</td>\n",
       "      <td>De la participación de las personas con discap...</td>\n",
       "    </tr>\n",
       "    <tr>\n",
       "      <th>321</th>\n",
       "      <td>DISPOSICIONES TRANSITORIAS</td>\n",
       "      <td>DISPOSICIONES TRANSITORIAS</td>\n",
       "      <td>CUADRAGÉSIMA OCTAVA</td>\n",
       "      <td>Las declaraciones de candidaturas independient...</td>\n",
       "    </tr>\n",
       "    <tr>\n",
       "      <th>322</th>\n",
       "      <td>DISPOSICIONES TRANSITORIAS</td>\n",
       "      <td>DISPOSICIONES TRANSITORIAS</td>\n",
       "      <td>CUADRAGÉSIMA NOVENA</td>\n",
       "      <td>En razón de la postergación de las próximas el...</td>\n",
       "    </tr>\n",
       "    <tr>\n",
       "      <th>323</th>\n",
       "      <td>DISPOSICIONES TRANSITORIAS</td>\n",
       "      <td>DISPOSICIONES TRANSITORIAS</td>\n",
       "      <td>QUINCUAGÉSIMA</td>\n",
       "      <td>Sin perjuicio de lo dispuesto en el artículo 6...</td>\n",
       "    </tr>\n",
       "    <tr>\n",
       "      <th>324</th>\n",
       "      <td>DISPOSICIONES TRANSITORIAS</td>\n",
       "      <td>DISPOSICIONES TRANSITORIAS</td>\n",
       "      <td>QUINCUAGÉSIMA PRIMERA</td>\n",
       "      <td>Sin perjuicio de las normas aplicables al pleb...</td>\n",
       "    </tr>\n",
       "  </tbody>\n",
       "</table>\n",
       "<p>199 rows × 4 columns</p>\n",
       "</div>"
      ],
      "text/plain": [
       "                       capitulo                titulo_capitulo  \\\n",
       "0                    Capítulo I  BASES DE LA INSTITUCIONALIDAD   \n",
       "1                    Capítulo I  BASES DE LA INSTITUCIONALIDAD   \n",
       "2                    Capítulo I  BASES DE LA INSTITUCIONALIDAD   \n",
       "3                    Capítulo I  BASES DE LA INSTITUCIONALIDAD   \n",
       "4                    Capítulo I  BASES DE LA INSTITUCIONALIDAD   \n",
       "..                          ...                            ...   \n",
       "320  DISPOSICIONES TRANSITORIAS     DISPOSICIONES TRANSITORIAS   \n",
       "321  DISPOSICIONES TRANSITORIAS     DISPOSICIONES TRANSITORIAS   \n",
       "322  DISPOSICIONES TRANSITORIAS     DISPOSICIONES TRANSITORIAS   \n",
       "323  DISPOSICIONES TRANSITORIAS     DISPOSICIONES TRANSITORIAS   \n",
       "324  DISPOSICIONES TRANSITORIAS     DISPOSICIONES TRANSITORIAS   \n",
       "\n",
       "                  articulo                                  texto_concatenado  \n",
       "0              Artículo 1°  Las personas nacen libres e iguales en dignida...  \n",
       "1              Artículo 2º  Son emblemas nacionales la bandera nacional, e...  \n",
       "2              Artículo 3º  El Estado de Chile es unitario. La administrac...  \n",
       "3              Artículo 4°                Chile es una república democrática.  \n",
       "4              Artículo 5º  La soberanía reside esencialmente en la Nación...  \n",
       "..                     ...                                                ...  \n",
       "320   CUADRAGÉSIMA SÉPTIMA  De la participación de las personas con discap...  \n",
       "321    CUADRAGÉSIMA OCTAVA  Las declaraciones de candidaturas independient...  \n",
       "322    CUADRAGÉSIMA NOVENA  En razón de la postergación de las próximas el...  \n",
       "323          QUINCUAGÉSIMA  Sin perjuicio de lo dispuesto en el artículo 6...  \n",
       "324  QUINCUAGÉSIMA PRIMERA  Sin perjuicio de las normas aplicables al pleb...  \n",
       "\n",
       "[199 rows x 4 columns]"
      ]
     },
     "execution_count": 6,
     "metadata": {},
     "output_type": "execute_result"
    }
   ],
   "source": [
    "df_result"
   ]
  },
  {
   "cell_type": "code",
   "execution_count": 7,
   "metadata": {},
   "outputs": [],
   "source": [
    "str_output = ''\n",
    "\n",
    "for i, row in df_result.iterrows():\n",
    "    str_output = f\"{row['capitulo']}: {row['titulo_capitulo']}\\n{row['articulo']}\\n{row['texto_concatenado']}\\n\\n\"\n",
    "    #write to txt file\n",
    "    with open(f\"../data/raw/documents/constitucion_vigente_{row['capitulo']}_{row['articulo']}.txt\", 'a') as f:\n",
    "        f.write(str_output)\n",
    "        f.close()\n"
   ]
  }
 ],
 "metadata": {
  "kernelspec": {
   "display_name": "constitution-clarify-reader",
   "language": "python",
   "name": "python3"
  },
  "language_info": {
   "codemirror_mode": {
    "name": "ipython",
    "version": 3
   },
   "file_extension": ".py",
   "mimetype": "text/x-python",
   "name": "python",
   "nbconvert_exporter": "python",
   "pygments_lexer": "ipython3",
   "version": "3.10.11"
  },
  "orig_nbformat": 4
 },
 "nbformat": 4,
 "nbformat_minor": 2
}

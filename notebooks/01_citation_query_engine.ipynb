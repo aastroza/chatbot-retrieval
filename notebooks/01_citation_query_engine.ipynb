{
 "cells": [
  {
   "cell_type": "code",
   "execution_count": 22,
   "metadata": {},
   "outputs": [],
   "source": [
    "import os\n",
    "from langchain.llms import OpenAI\n",
    "from langchain.chat_models import ChatOpenAI\n",
    "from llama_index.query_engine import CitationQueryEngine\n",
    "from llama_index.retrievers import VectorIndexRetriever\n",
    "from llama_index import (\n",
    "    VectorStoreIndex,\n",
    "    ResponseSynthesizer,\n",
    "    SimpleDirectoryReader,\n",
    "    StorageContext,\n",
    "    load_index_from_storage,\n",
    "    LLMPredictor,\n",
    "    ServiceContext,\n",
    ")\n",
    "import textwrap"
   ]
  },
  {
   "cell_type": "code",
   "execution_count": 2,
   "metadata": {},
   "outputs": [],
   "source": [
    "service_context = ServiceContext.from_defaults(\n",
    "    llm_predictor=LLMPredictor(llm=ChatOpenAI(model_name='gpt-3.5-turbo', temperature=0))\n",
    ")"
   ]
  },
  {
   "cell_type": "code",
   "execution_count": 16,
   "metadata": {},
   "outputs": [],
   "source": [
    "\n",
    "documents = SimpleDirectoryReader(\"../data/raw/documents/\").load_data()\n",
    "index = VectorStoreIndex.from_documents(documents, service_context=service_context)\n",
    "index.storage_context.persist(persist_dir=\"./citation\")\n"
   ]
  },
  {
   "cell_type": "code",
   "execution_count": 32,
   "metadata": {},
   "outputs": [],
   "source": [
    "query_engine = CitationQueryEngine.from_args(\n",
    "    index, \n",
    "    similarity_top_k=3,\n",
    "    # here we can control how granular citation sources are, the default is 512\n",
    "    citation_chunk_size=1024 \n",
    ")"
   ]
  },
  {
   "cell_type": "code",
   "execution_count": 33,
   "metadata": {},
   "outputs": [
    {
     "name": "stderr",
     "output_type": "stream",
     "text": [
      "Retrying langchain.chat_models.openai.ChatOpenAI.completion_with_retry.<locals>._completion_with_retry in 1.0 seconds as it raised ServiceUnavailableError: The server is overloaded or not ready yet..\n"
     ]
    }
   ],
   "source": [
    "response = query_engine.query(\"Cuales son las funciones del presidente?\")"
   ]
  },
  {
   "cell_type": "code",
   "execution_count": 25,
   "metadata": {},
   "outputs": [
    {
     "data": {
      "text/plain": [
       "'El presidente de la República tiene varias funciones y atribuciones especiales, según el Artículo 32 de la Constitución de Chile [1]. Algunas de estas funciones incluyen: concurrir a la formación de las leyes con arreglo a la Constitución, sancionarlas y promulgarlas; pedir que se cite a sesión a cualquiera de las ramas del Congreso Nacional; dictar decretos con fuerza de ley sobre las materias que señala la Constitución; convocar a plebiscito en los casos del artículo 128; declarar los estados de excepción constitucional en los casos y formas que se señalan en esta Constitución; ejercer la potestad reglamentaria en todas aquellas materias que no sean propias del dominio legal, sin perjuicio de la facultad de dictar los demás reglamentos, decretos e instrucciones que crea convenientes para la ejecución de las leyes; nombrar y remover a su voluntad a los ministros de Estado, subsecretarios, delegados presidenciales regionales y delegados presidenciales provinciales; designar a los embajadores y ministros diplomáticos, y a los representantes ante organismos internacionales; nombrar al Contralor General de la República con acuerdo del Senado; nombrar y remover a los funcionarios que la ley denomina como de su exclusiva confianza y proveer los demás empleos civiles en conformidad a la ley; conceder jubilaciones, retiros, montepíos y pensiones de gracia, con arreglo a las leyes; nombrar a los magistrados y fiscales judiciales de las Cortes de Apelaciones y a los jueces letrados, a proposición de la Corte Suprema y de las Cortes de Apelaciones, respectivamente; velar por la conducta ministerial de los jueces y demás empleados del Poder Judicial y requerir, con tal objeto, a la Corte Suprema para que, si procede, declare su mal comportamiento, o al ministerio público, para que reclame medidas disciplinarias del tribunal competente, o para que, si hubiere mérito bastante, entable la correspondiente acusación; y otorgar indultos particulares en los casos y formas que determine la ley [1][2]. Además, el presidente es el Jefe del Estado y su autoridad se extiende a todo cuanto tiene por objeto la conservación del orden público en el interior y la seguridad externa de la República, de acuerdo con la Constitución y las leyes [5].'"
      ]
     },
     "execution_count": 25,
     "metadata": {},
     "output_type": "execute_result"
    }
   ],
   "source": [
    "response.response"
   ]
  },
  {
   "cell_type": "code",
   "execution_count": 34,
   "metadata": {},
   "outputs": [
    {
     "name": "stdout",
     "output_type": "stream",
     "text": [
      "El presidente de la República tiene diversas funciones y atribuciones especiales, según lo\n",
      "establecido en el Artículo 32 de la Constitución chilena. Entre ellas se encuentran: concurrir a la\n",
      "formación de las leyes, pedir que se cite a sesión a cualquiera de las ramas del Congreso Nacional,\n",
      "dictar decretos con fuerza de ley sobre las materias que señala la Constitución, convocar a\n",
      "plebiscito en los casos del artículo 128, declarar los estados de excepción constitucional, ejercer\n",
      "la potestad reglamentaria, nombrar y remover a su voluntad a los ministros de Estado,\n",
      "subsecretarios, delegados presidenciales regionales y delegados presidenciales provinciales,\n",
      "designar a los embajadores y ministros diplomáticos, y a los representantes ante organismos\n",
      "internacionales, nombrar al Contralor General de la República con acuerdo del Senado, nombrar y\n",
      "remover a los funcionarios que la ley denomina como de su exclusiva confianza y proveer los demás\n",
      "empleos civiles en conformidad a la ley, conceder jubilaciones, retiros, montepíos y pensiones de\n",
      "gracia, nombrar a los magistrados y fiscales judiciales de las Cortes de Apelaciones y a los jueces\n",
      "letrados, velar por la conducta ministerial de los jueces y demás empleados del Poder Judicial y\n",
      "otorgar indultos particulares en los casos y formas que determine la ley [1]. Además, el presidente\n",
      "es el Jefe del Estado y su autoridad se extiende a todo cuanto tiene por objeto la conservación del\n",
      "orden público en el interior y la seguridad externa de la República, de acuerdo con la Constitución\n",
      "y las leyes [3]. En cada región existe una delegación presidencial regional, a cargo de un delegado\n",
      "presidencial regional, el que ejerce las funciones y atribuciones del Presidente de la República en\n",
      "la región, en conformidad a la ley [2].\n"
     ]
    }
   ],
   "source": [
    "print(textwrap.fill(response.response, width=100))"
   ]
  },
  {
   "cell_type": "code",
   "execution_count": 41,
   "metadata": {},
   "outputs": [
    {
     "name": "stderr",
     "output_type": "stream",
     "text": [
      "Retrying langchain.chat_models.openai.ChatOpenAI.completion_with_retry.<locals>._completion_with_retry in 1.0 seconds as it raised ServiceUnavailableError: The server is overloaded or not ready yet..\n"
     ]
    }
   ],
   "source": [
    "response = query_engine.query(\"Existen los extraterrestres?\")"
   ]
  },
  {
   "cell_type": "code",
   "execution_count": 42,
   "metadata": {},
   "outputs": [
    {
     "name": "stdout",
     "output_type": "stream",
     "text": [
      "None of the provided sources address the existence of extraterrestrials.\n"
     ]
    }
   ],
   "source": [
    "print(textwrap.fill(response.response, width=100))"
   ]
  },
  {
   "cell_type": "code",
   "execution_count": 43,
   "metadata": {},
   "outputs": [],
   "source": [
    "response = query_engine.query(\"Cual es el rol de la Constitución?\")"
   ]
  },
  {
   "cell_type": "code",
   "execution_count": 44,
   "metadata": {},
   "outputs": [
    {
     "name": "stdout",
     "output_type": "stream",
     "text": [
      "La Constitución establece las bases de la institucionalidad y regula el ejercicio de la soberanía\n",
      "por parte del pueblo y las autoridades [2]. Los órganos del Estado deben someter su acción a la\n",
      "Constitución y a las normas dictadas conforme a ella, y garantizar el orden institucional de la\n",
      "República [3]. La Constitución también establece normas generales y obligatorias en diversos\n",
      "ámbitos, como delitos contemplados en el artículo 9º, residencia del Presidente de la República,\n",
      "funcionamiento de la Corte Suprema y el Tribunal Constitucional, procedimientos de la administración\n",
      "pública, y regulación de loterías, hipódromos y apuestas en general [1].\n"
     ]
    }
   ],
   "source": [
    "print(textwrap.fill(response.response, width=100))"
   ]
  },
  {
   "cell_type": "code",
   "execution_count": 46,
   "metadata": {},
   "outputs": [
    {
     "name": "stdout",
     "output_type": "stream",
     "text": [
      "Source 3:\n",
      "Capítulo I: BASES DE LA INSTITUCIONALIDAD\n",
      "Artículo 6º\n",
      "Los órganos del Estado deben someter su acción a la Constitución y a las normas dictadas conforme a ella, y garantizar el orden institucional de la República. Los preceptos de esta Constitución obligan tanto a los titulares o integrantes de dichos órganos como a toda persona, institución o grupo. La infracción de esta norma generará las responsabilidades y sanciones que determine la ley.\n",
      "\n"
     ]
    }
   ],
   "source": [
    "print(response.source_nodes[2].node.get_text())"
   ]
  },
  {
   "cell_type": "code",
   "execution_count": 30,
   "metadata": {},
   "outputs": [
    {
     "data": {
      "text/plain": [
       "Node(text='Source 2:\\n- Nombrar al Contralor General de la República con acuerdo del Senado;\\n10º.- Nombrar y remover a los funcionarios que la ley denomina como de su exclusiva confianza y proveer los demás empleos civiles en conformidad a la ley. La remoción de los demás funcionarios se hará de acuerdo a las disposiciones que ésta determine;\\n11º.- Conceder jubilaciones, retiros, montepíos y pensiones de gracia, con arreglo a las leyes;\\n12º.- Nombrar a los magistrados y fiscales judiciales de las Cortes de Apelaciones y a los jueces letrados, a proposición de la Corte Suprema y de las Cortes de Apelaciones, respectivamente; a los miembros del Tribunal Constitucional que le corresponde designar; y a los magistrados y fiscales judiciales de la Corte Suprema y al Fiscal Nacional, a proposición de dicha Corte y con acuerdo del Senado, todo ello conforme a lo prescrito en esta Constitución;\\n13º.- Velar por la conducta ministerial de los jueces y demás empleados del Poder Judicial y requerir, con tal objeto, a la Corte Suprema para que, si procede, declare su mal comportamiento, o al ministerio público, para que reclame medidas disciplinarias del tribunal competente, o para que, si hubiere mérito bastante, entable la correspondiente acusación;\\n14º.- Otorgar indultos particulares en los casos y formas que determine la ley. El indulto será improcedente en tanto no se haya dictado sentencia ejecutoriada en el respectivo proceso. Los funcionarios acusados por la Cámara de Diputados y condenados por el Senado,\\n', doc_id='a2a998fc-a4dc-4cef-b7e3-e9e86c2f52e5', embedding=None, doc_hash='86a14f36581822567244a5502e5483a64f498f85424d975e205eab7be5faf74d', extra_info={}, node_info={'start': 1380, 'end': 2882, '_node_type': <NodeType.TEXT: '1'>}, relationships={<DocumentRelationship.SOURCE: '1'>: '36033a4f-3e40-4fbb-a157-99c642518b5d', <DocumentRelationship.NEXT: '3'>: '8acfaade-333f-4c80-8bcd-b6a2c2a6edce'})"
      ]
     },
     "execution_count": 30,
     "metadata": {},
     "output_type": "execute_result"
    }
   ],
   "source": [
    "response.source_nodes[1].node"
   ]
  }
 ],
 "metadata": {
  "kernelspec": {
   "display_name": "chatbot-retrieval",
   "language": "python",
   "name": "python3"
  },
  "language_info": {
   "codemirror_mode": {
    "name": "ipython",
    "version": 3
   },
   "file_extension": ".py",
   "mimetype": "text/x-python",
   "name": "python",
   "nbconvert_exporter": "python",
   "pygments_lexer": "ipython3",
   "version": "3.10.11"
  },
  "orig_nbformat": 4
 },
 "nbformat": 4,
 "nbformat_minor": 2
}
